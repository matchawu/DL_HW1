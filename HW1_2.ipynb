{
 "cells": [
  {
   "cell_type": "code",
   "execution_count": 2,
   "metadata": {},
   "outputs": [],
   "source": [
    "import numpy as np\n",
    "import matplotlib.pyplot as plt\n",
    "from PIL import Image\n",
    "\n",
    "import torch\n",
    "import torchvision\n",
    "import torch.optim as optim\n",
    "from torchvision import transforms\n",
    "from torchvision.datasets import ImageFolder\n",
    "\n",
    "import torch.nn as nn\n",
    "import torch.nn.functional as F"
   ]
  },
  {
   "cell_type": "markdown",
   "metadata": {},
   "source": [
    "## 前置作業\n",
    "- 要先建立好資料夾train/data/bad,good,none以及test/data/good,bad,none"
   ]
  },
  {
   "cell_type": "code",
   "execution_count": 41,
   "metadata": {},
   "outputs": [],
   "source": [
    "def processImage(nameStr):\n",
    "    \n",
    "    if nameStr == 'train':\n",
    "        data = np.loadtxt('train.csv',dtype=np.str,delimiter=',')[1:]\n",
    "        # 更改有錯的檔案名稱\n",
    "        idx = np.where(data[:,0]=='AR-200139872.jpg_NCS_modified=&exif=.jpg')\n",
    "        data[idx,0] = 'AR-200139872.jpg_NCS_modified=_exif=.jpg'\n",
    "        # 因為檔名過大而無法存取 因此改檔名\n",
    "        idx = np.where(data[:,0]=='chinese-wear-face-masks-to-protect-against-the-heavy-smog-hanging-over-beijing-on-november-17-2016-chinas-capital-warned-its-20-million-residents-to-limit-outdoor-activities-to-avoid-the-ill-effects-of-heavy-pollution-blanketing-the-city-ph.jpg')\n",
    "    \n",
    "    elif nameStr == 'test':\n",
    "        data = np.loadtxt('test.csv',dtype=np.str,delimiter=',')[1:]\n",
    "        \n",
    "    dataAmt = len(data)\n",
    "\n",
    "    for i in range(dataAmt):\n",
    "        left = int(data[:,-4][i]) # xmin\n",
    "        bottom = int(data[:,-3][i]) # ymin\n",
    "        right = int(data[:,-2][i]) # xmax\n",
    "        top = int(data[:,-1][i]) # ymax\n",
    "\n",
    "        label = data[:,3][i]\n",
    "\n",
    "        img = Image.open('../images/' + data[:,0][i])\n",
    "        img_crop = img.crop((left, bottom, right, top)) \n",
    "        img_crop = img_crop.convert(\"RGB\")\n",
    "        img_crop.save(nameStr+'/data/'+label+'/'+str(i)+'.jpg',\"JPEG\")"
   ]
  },
  {
   "cell_type": "code",
   "execution_count": 42,
   "metadata": {},
   "outputs": [],
   "source": [
    "processImage(\"train\")\n",
    "processImage(\"test\")"
   ]
  },
  {
   "cell_type": "code",
   "execution_count": 43,
   "metadata": {},
   "outputs": [],
   "source": [
    "transform = transforms.Compose([\n",
    "    transforms.RandomHorizontalFlip(),\n",
    "    transforms.ToTensor(), # 將圖片轉成tensor\n",
    "    transforms.Normalize(mean=[.5,.5,.5],std=[.5,.5,.5]) # normalization\n",
    "])"
   ]
  },
  {
   "cell_type": "code",
   "execution_count": 44,
   "metadata": {},
   "outputs": [
    {
     "name": "stdout",
     "output_type": "stream",
     "text": [
      "train length: 3528 , class index: {'bad': 0, 'good': 1, 'none': 2}\n",
      "test length: 394 , class index: {'bad': 0, 'good': 1, 'none': 2}\n"
     ]
    }
   ],
   "source": [
    "trainSet = ImageFolder('train/data/',transform=transform)\n",
    "print(\"train length:\",len(trainSet),\", class index:\", trainSet.class_to_idx)\n",
    "testSet = ImageFolder('test/data/',transform=transform)\n",
    "print(\"test length:\",len(testSet),\", class index:\", testSet.class_to_idx)"
   ]
  },
  {
   "cell_type": "code",
   "execution_count": 45,
   "metadata": {},
   "outputs": [
    {
     "data": {
      "text/plain": [
       "3"
      ]
     },
     "execution_count": 45,
     "metadata": {},
     "output_type": "execute_result"
    }
   ],
   "source": [
    "numClass = len(trainSet.class_to_idx)\n",
    "numClass # 類別種數"
   ]
  },
  {
   "cell_type": "code",
   "execution_count": 46,
   "metadata": {},
   "outputs": [],
   "source": [
    "trainloader = torch.utils.data.DataLoader(trainSet, \n",
    "                                          batch_size=1, \n",
    "                                          shuffle=True)\n",
    "testloader = torch.utils.data.DataLoader(testSet, \n",
    "                                         batch_size=1,\n",
    "                                         shuffle=False)"
   ]
  },
  {
   "cell_type": "markdown",
   "metadata": {},
   "source": [
    "## 網路架構"
   ]
  },
  {
   "cell_type": "code",
   "execution_count": 47,
   "metadata": {},
   "outputs": [],
   "source": [
    "class Net(nn.Module):\n",
    "    def __init__(self):\n",
    "        super(Net, self).__init__()\n",
    "        self.ada = nn.AdaptiveAvgPool2d((32,32))\n",
    "        self.conv1 = nn.Conv2d(3, 5, 3)\n",
    "        self.pool = nn.MaxPool2d(2, 2)\n",
    "        self.conv2 = nn.Conv2d(5, 10, 3)\n",
    "        self.fc1 = nn.Linear(10 * 6 * 6, 120)\n",
    "        self.fc2 = nn.Linear(120, 84)\n",
    "        self.fc3 = nn.Linear(84, numClass)\n",
    "\n",
    "    def forward(self, x):\n",
    "        x = self.ada(x)\n",
    "        x = self.pool(F.relu(self.conv1(x))) # 15 * 15\n",
    "        x = self.pool(F.relu(self.conv2(x))) #  6 * 6\n",
    "        x = x.view(-1, 10 * 6 * 6)\n",
    "        x = F.relu(self.fc1(x))\n",
    "        x = F.relu(self.fc2(x))\n",
    "        x = self.fc3(x)\n",
    "        return x\n",
    "\n",
    "net = Net()"
   ]
  },
  {
   "cell_type": "code",
   "execution_count": null,
   "metadata": {},
   "outputs": [],
   "source": [
    "# class Net(nn.Module):\n",
    "#     def __init__(self):\n",
    "#         super(Net, self).__init__()\n",
    "#         self.ada = nn.AdaptiveAvgPool2d((32,32))\n",
    "#         self.conv1 = nn.Conv2d(3, 6, 5,stride=2)\n",
    "#         self.pool = nn.MaxPool2d(2, 2)\n",
    "#         self.conv2 = nn.Conv2d(6, 16, 5,stride=2)\n",
    "#         self.fc1 = nn.Linear(16 * 5 * 5, 120)\n",
    "#         self.fc2 = nn.Linear(120, 84)\n",
    "#         self.fc3 = nn.Linear(84, 3) #84,3\n",
    "\n",
    "#     def forward(self, x):\n",
    "#         x = self.ada(x)\n",
    "#         x = self.pool(F.relu(self.conv1(x)))\n",
    "#         x = self.pool(F.relu(self.conv2(x)))\n",
    "#         x = x.view(-1, 16 * 5 * 5)\n",
    "#         x = F.relu(self.fc1(x))\n",
    "#         x = F.relu(self.fc2(x))\n",
    "#         x = self.fc3(x)\n",
    "#         return x\n",
    "\n",
    "# net = Net()"
   ]
  },
  {
   "cell_type": "code",
   "execution_count": 25,
   "metadata": {},
   "outputs": [
    {
     "name": "stdout",
     "output_type": "stream",
     "text": [
      "Epochs:  10 , learning rate:  0.001\n"
     ]
    },
    {
     "data": {
      "text/plain": [
       "Net(\n",
       "  (ada): AdaptiveAvgPool2d(output_size=(32, 32))\n",
       "  (conv1): Conv2d(3, 5, kernel_size=(3, 3), stride=(1, 1))\n",
       "  (pool): MaxPool2d(kernel_size=2, stride=2, padding=0, dilation=1, ceil_mode=False)\n",
       "  (conv2): Conv2d(5, 10, kernel_size=(3, 3), stride=(1, 1))\n",
       "  (fc1): Linear(in_features=360, out_features=120, bias=True)\n",
       "  (fc2): Linear(in_features=120, out_features=84, bias=True)\n",
       "  (fc3): Linear(in_features=84, out_features=3, bias=True)\n",
       ")"
      ]
     },
     "execution_count": 25,
     "metadata": {},
     "output_type": "execute_result"
    }
   ],
   "source": [
    "# loss \n",
    "criterion = nn.CrossEntropyLoss()\n",
    "\n",
    "# optimizer & set learning rate\n",
    "learning_rate = 0.001\n",
    "# optimizer = optim.SGD(net.parameters(), lr=0.001, momentum=0.9)\n",
    "optimizer = optim.Adam(net.parameters(), lr=learning_rate)\n",
    "\n",
    "epochs = 10\n",
    "epoch_loss = []\n",
    "epoch_train_acc = []\n",
    "epoch_test_acc = []\n",
    "\n",
    "print('Epochs: ', epochs, ', learning rate: ', learning_rate)\n",
    "net"
   ]
  },
  {
   "cell_type": "code",
   "execution_count": 26,
   "metadata": {},
   "outputs": [
    {
     "name": "stdout",
     "output_type": "stream",
     "text": [
      "=========================================================================\n",
      "Epoch: 0/10\n",
      "Loss:  0.292\n",
      "train acc: 0.909  ,  3206 / 3528\n",
      "test acc: 0.898  ,  354 / 394\n",
      "train acc each class:  [0.78719723 0.96626845 0.00961538]\n",
      "test acc each class:  [0.93258427 0.95759717 0.        ]\n",
      "=========================================================================\n",
      "=========================================================================\n",
      "Epoch: 1/10\n",
      "Loss:  0.216\n",
      "train acc: 0.932  ,  3287 / 3528\n",
      "test acc: 0.921  ,  363 / 394\n",
      "train acc each class:  [0.92387543 0.96416022 0.08653846]\n",
      "test acc each class:  [0.96629213 0.96819788 0.13636364]\n",
      "=========================================================================\n",
      "=========================================================================\n",
      "Epoch: 2/10\n",
      "Loss:  0.199\n",
      "train acc: 0.935  ,  3300 / 3528\n",
      "test acc: 0.901  ,  355 / 394\n",
      "train acc each class:  [0.92560554 0.96486297 0.18269231]\n",
      "test acc each class:  [0.83146067 0.98586572 0.09090909]\n",
      "=========================================================================\n",
      "=========================================================================\n",
      "Epoch: 3/10\n",
      "Loss:  0.193\n",
      "train acc: 0.941  ,  3320 / 3528\n",
      "test acc: 0.926  ,  365 / 394\n",
      "train acc each class:  [0.93425606 0.96907941 0.21153846]\n",
      "test acc each class:  [0.96629213 0.98233216 0.04545455]\n",
      "=========================================================================\n",
      "=========================================================================\n",
      "Epoch: 4/10\n",
      "Loss:  0.195\n",
      "train acc: 0.938  ,  3308 / 3528\n",
      "test acc: 0.906  ,  357 / 394\n",
      "train acc each class:  [0.92214533 0.96661982 0.23076923]\n",
      "test acc each class:  [0.8988764  0.97173145 0.09090909]\n",
      "=========================================================================\n",
      "=========================================================================\n",
      "Epoch: 5/10\n",
      "Loss:  0.175\n",
      "train acc: 0.941  ,  3319 / 3528\n",
      "test acc: 0.929  ,  366 / 394\n",
      "train acc each class:  [0.92560554 0.96978215 0.23076923]\n",
      "test acc each class:  [0.95505618 0.97173145 0.27272727]\n",
      "=========================================================================\n",
      "=========================================================================\n",
      "Epoch: 6/10\n",
      "Loss:  0.170\n",
      "train acc: 0.946  ,  3338 / 3528\n",
      "test acc: 0.916  ,  361 / 394\n",
      "train acc each class:  [0.9100346  0.97470134 0.36538462]\n",
      "test acc each class:  [0.92134831 0.97526502 0.13636364]\n",
      "=========================================================================\n",
      "=========================================================================\n",
      "Epoch: 7/10\n",
      "Loss:  0.167\n",
      "train acc: 0.945  ,  3335 / 3528\n",
      "test acc: 0.929  ,  366 / 394\n",
      "train acc each class:  [0.92214533 0.97189037 0.34615385]\n",
      "test acc each class:  [0.96629213 0.97526502 0.18181818]\n",
      "=========================================================================\n",
      "=========================================================================\n",
      "Epoch: 8/10\n",
      "Loss:  0.150\n",
      "train acc: 0.949  ,  3348 / 3528\n",
      "test acc: 0.929  ,  366 / 394\n",
      "train acc each class:  [0.93771626 0.97470134 0.30769231]\n",
      "test acc each class:  [0.8988764  0.98586572 0.31818182]\n",
      "=========================================================================\n",
      "=========================================================================\n",
      "Epoch: 9/10\n",
      "Loss:  0.152\n",
      "train acc: 0.947  ,  3341 / 3528\n",
      "test acc: 0.929  ,  366 / 394\n",
      "train acc each class:  [0.91695502 0.97364722 0.38461538]\n",
      "test acc each class:  [0.97752809 0.97526502 0.13636364]\n",
      "=========================================================================\n",
      "Training finished!!!\n"
     ]
    }
   ],
   "source": [
    "for epoch in range(epochs):\n",
    "    \n",
    "    losses = 0.0\n",
    "    train_acc = 0 \n",
    "    test_acc = 0\n",
    "    \n",
    "    # 各類別分對了的數量累計\n",
    "    trainAccEachClass = [0]*numClass\n",
    "    testAccEachClass = [0]*numClass\n",
    "    \n",
    "    # 各類別數量(從原始data之label統計)\n",
    "    trainClassCount = [0]*numClass\n",
    "    testClassCount = [0]*numClass\n",
    "    \n",
    "    for i, data in enumerate(trainloader, 0):\n",
    "        # get the inputs; data is a list of [inputs, labels]\n",
    "        inputs, labels = data\n",
    "        # zero the parameter gradients\n",
    "        optimizer.zero_grad()\n",
    "        # forward + backward + optimize\n",
    "        outputs = net(inputs)\n",
    "        \n",
    "        # training accuracy\n",
    "        pred = np.argmax(outputs.detach().numpy())\n",
    "        \n",
    "        # new\n",
    "        trainClassCount[labels] += 1\n",
    "        \n",
    "        if pred == labels:\n",
    "            train_acc += 1\n",
    "            trainAccEachClass[labels] += 1\n",
    "        \n",
    "        # loss\n",
    "        loss = criterion(outputs, labels)\n",
    "        loss.backward()\n",
    "        optimizer.step()\n",
    "        \n",
    "        losses += loss.item()\n",
    "        \n",
    "    # testing\n",
    "    for i, data in enumerate(testloader, 0):\n",
    "        inputs, labels = data\n",
    "        outputs = net(inputs)\n",
    "        \n",
    "        # testing accuracy\n",
    "        pred = np.argmax(outputs.detach().numpy())\n",
    "        \n",
    "        testClassCount[labels] += 1\n",
    "        \n",
    "        if pred == labels:\n",
    "            test_acc += 1\n",
    "            testAccEachClass[labels] += 1\n",
    "    \n",
    "    epoch_loss.append(losses)\n",
    "    epoch_train_acc.append(train_acc/len(trainSet))\n",
    "    epoch_test_acc.append(test_acc/len(testSet))\n",
    "    \n",
    "    print('=========================================================================')\n",
    "    print('Epoch: %d/%d'%(epoch,epochs))\n",
    "    print('Loss:  %.3f' % (losses/len(trainSet)) )\n",
    "    print('train acc: %.3f' % (train_acc/len(trainSet)),' , ',train_acc, '/', len(trainSet))\n",
    "    print('test acc: %.3f' % (test_acc/len(testSet)),' , ',test_acc, '/', len(testSet) )\n",
    "    print('train acc each class: ',(np.array(trainAccEachClass) / np.array(trainClassCount)))\n",
    "    print('test acc each class: ',(np.array(testAccEachClass) / np.array(testClassCount)))\n",
    "    print('=========================================================================')\n",
    "\n",
    "print(\"Training finished!!!\")"
   ]
  },
  {
   "cell_type": "markdown",
   "metadata": {},
   "source": [
    "## 訓練結果"
   ]
  },
  {
   "cell_type": "code",
   "execution_count": 27,
   "metadata": {},
   "outputs": [
    {
     "name": "stdout",
     "output_type": "stream",
     "text": [
      "train acc: 0.947  ,  3341 / 3528\n",
      "test acc: 0.929  ,  366 / 394\n",
      "train acc each class:  [0.91695502 0.97364722 0.38461538]\n",
      "test acc each class:  [0.97752809 0.97526502 0.13636364]\n"
     ]
    }
   ],
   "source": [
    "print('train acc: %.3f' % (train_acc/len(trainSet)),' , ',train_acc, '/', len(trainSet))\n",
    "print('test acc: %.3f' % (test_acc/len(testSet)),' , ',test_acc, '/', len(testSet) )\n",
    "print('train acc each class: ',(np.array(trainAccEachClass) / np.array(trainClassCount)))\n",
    "print('test acc each class: ',(np.array(testAccEachClass) / np.array(testClassCount)))"
   ]
  },
  {
   "cell_type": "code",
   "execution_count": 28,
   "metadata": {},
   "outputs": [
    {
     "data": {
      "image/png": "[encoded data removed]",
      "text/plain": [
       "<Figure size 600x400 with 1 Axes>"
      ]
     },
     "metadata": {},
     "output_type": "display_data"
    },
    {
     "data": {
      "image/png": "[encoded data removed]",
      "text/plain": [
       "<Figure size 600x400 with 1 Axes>"
      ]
     },
     "metadata": {},
     "output_type": "display_data"
    }
   ],
   "source": [
    "# plot the loss, and training & testing acc\n",
    "\n",
    "plt.style.use(\"default\")\n",
    "plt.figure(figsize=(6,4))\n",
    "plt.title(\"Accuracy\")\n",
    "\n",
    "plt.xlim(-1,10)\n",
    "plt.ylim(0,1)\n",
    "plt.xlabel(\"Epochs\")\n",
    "plt.ylabel(\"Accuracy\")\n",
    "plt.plot(epoch_train_acc, label='train')\n",
    "plt.plot(epoch_test_acc, label='test')\n",
    "plt.legend(['train','test'])\n",
    "plt.show()\n",
    "\n",
    "plt.figure(figsize=(6,4))\n",
    "plt.title(\"Learning Curve\")\n",
    "plt.xlabel(\"Epochs\")\n",
    "plt.ylabel(\"Loss\")\n",
    "plt.plot(epoch_loss, color='g')\n",
    "plt.show()"
   ]
  },
  {
   "cell_type": "code",
   "execution_count": 31,
   "metadata": {},
   "outputs": [
    {
     "data": {
      "image/png": "[encoded data removed]",
      "text/plain": [
       "<Figure size 640x480 with 1 Axes>"
      ]
     },
     "metadata": {},
     "output_type": "display_data"
    },
    {
     "name": "stdout",
     "output_type": "stream",
     "text": [
      "GroundTruth:    bad\n"
     ]
    }
   ],
   "source": [
    "import matplotlib.pyplot as plt\n",
    "import numpy as np\n",
    "\n",
    "# functions to show an image\n",
    "def imshow(img):\n",
    "    img = img / 2 + 0.5     # unnormalize\n",
    "    npimg = img.numpy()\n",
    "    plt.imshow(np.transpose(npimg, (1, 2, 0)))\n",
    "    plt.show()\n",
    "    \n",
    "dataiter = iter(testloader)\n",
    "\n",
    "images, labels = dataiter.next()\n",
    "classes = ('bad','good','none')\n",
    "\n",
    "# print images\n",
    "imshow(torchvision.utils.make_grid(images))\n",
    "print('GroundTruth: ', ' '.join('%5s' % classes[labels[j]] for j in range(1)))"
   ]
  },
  {
   "cell_type": "code",
   "execution_count": 36,
   "metadata": {},
   "outputs": [
    {
     "data": {
      "text/plain": [
       "[tensor([[[[-0.6314, -0.6471, -0.6314,  ...,  0.1529,  0.1686,  0.1843],\n",
       "           [-0.6157, -0.6314, -0.6235,  ...,  0.1529,  0.1608,  0.1608],\n",
       "           [-0.6784, -0.7020, -0.6941,  ...,  0.1373,  0.1608,  0.1686],\n",
       "           ...,\n",
       "           [-0.4980, -0.4353, -0.3647,  ...,  0.2549,  0.2627,  0.2706],\n",
       "           [-0.5922, -0.5216, -0.4275,  ...,  0.2549,  0.2627,  0.2706],\n",
       "           [-0.6784, -0.6000, -0.4980,  ...,  0.2549,  0.2627,  0.2706]],\n",
       " \n",
       "          [[-0.7804, -0.7961, -0.7804,  ...,  0.1529,  0.1686,  0.1843],\n",
       "           [-0.7647, -0.7804, -0.7725,  ...,  0.1529,  0.1608,  0.1608],\n",
       "           [-0.8275, -0.8431, -0.8275,  ...,  0.1373,  0.1608,  0.1686],\n",
       "           ...,\n",
       "           [-0.6471, -0.5843, -0.5137,  ...,  0.2549,  0.2549,  0.2549],\n",
       "           [-0.7333, -0.6627, -0.5608,  ...,  0.2549,  0.2549,  0.2549],\n",
       "           [-0.8196, -0.7412, -0.6314,  ...,  0.2549,  0.2549,  0.2549]],\n",
       " \n",
       "          [[-0.8118, -0.8275, -0.8275,  ...,  0.1686,  0.1843,  0.2000],\n",
       "           [-0.7961, -0.8118, -0.8196,  ...,  0.1686,  0.1765,  0.1765],\n",
       "           [-0.8588, -0.8745, -0.8824,  ...,  0.1529,  0.1765,  0.1843],\n",
       "           ...,\n",
       "           [-0.6784, -0.6314, -0.5686,  ...,  0.2706,  0.2941,  0.2941],\n",
       "           [-0.7647, -0.6941, -0.6157,  ...,  0.2706,  0.2941,  0.2941],\n",
       "           [-0.8353, -0.7725, -0.6863,  ...,  0.2706,  0.2941,  0.2941]]]]),\n",
       " tensor([0])]"
      ]
     },
     "execution_count": 36,
     "metadata": {},
     "output_type": "execute_result"
    }
   ],
   "source": [
    "dataiter.next()"
   ]
  },
  {
   "cell_type": "code",
   "execution_count": null,
   "metadata": {},
   "outputs": [],
   "source": [
    "torchvision.utils.make_grid(images)"
   ]
  },
  {
   "cell_type": "code",
   "execution_count": null,
   "metadata": {},
   "outputs": [],
   "source": [
    "# # next(iter(trainloader))[1]\n",
    "# for i, data in enumerate(trainloader, 0):\n",
    "#     print(data)"
   ]
  }
 ],
 "metadata": {
  "kernelspec": {
   "display_name": "Python 3",
   "language": "python",
   "name": "python3"
  },
  "language_info": {
   "codemirror_mode": {
    "name": "ipython",
    "version": 3
   },
   "file_extension": ".py",
   "mimetype": "text/x-python",
   "name": "python",
   "nbconvert_exporter": "python",
   "pygments_lexer": "ipython3",
   "version": "3.7.4"
  }
 },
 "nbformat": 4,
 "nbformat_minor": 2
}
